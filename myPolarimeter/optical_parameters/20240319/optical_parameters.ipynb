{
 "cells": [
  {
   "attachments": {},
   "cell_type": "markdown",
   "metadata": {},
   "source": [
    "# Optical constants for the polarimeter, wider range"
   ]
  },
  {
   "attachments": {},
   "cell_type": "markdown",
   "metadata": {},
   "source": [
    "Calculating rs, rp, and $\\Delta$ for a wide energy range than before.\n",
    "\n",
    "Generating three files; one for M1 and M3 called M1.dat, one for M2 called M2.dat, and one for M4 called M4.dat.\n",
    "\n",
    "Each file contains four columns energy, rs, rp, and $\\Delta$."
   ]
  },
  {
   "cell_type": "code",
   "execution_count": 1,
   "metadata": {},
   "outputs": [],
   "source": [
    "import numpy as np\n",
    "import matplotlib.pyplot as plt\n",
    "\n",
    "import sys\n",
    "sys.path.append('/Users/matlea/Dropbox/Python/GitLab/mytools/')\n",
    "import myBLpol as blp\n"
   ]
  },
  {
   "attachments": {},
   "cell_type": "markdown",
   "metadata": {},
   "source": [
    "## Data from Ray\n",
    "\n",
    "The output from bouncing circular polarized light one each of the mirrors.\n",
    "\n",
    "Files:\n",
    "\n"
   ]
  },
  {
   "cell_type": "code",
   "execution_count": null,
   "metadata": {},
   "outputs": [],
   "source": []
  },
  {
   "cell_type": "code",
   "execution_count": null,
   "metadata": {},
   "outputs": [],
   "source": []
  },
  {
   "cell_type": "code",
   "execution_count": null,
   "metadata": {},
   "outputs": [],
   "source": []
  },
  {
   "cell_type": "code",
   "execution_count": null,
   "metadata": {},
   "outputs": [],
   "source": []
  },
  {
   "cell_type": "code",
   "execution_count": null,
   "metadata": {},
   "outputs": [],
   "source": []
  },
  {
   "cell_type": "code",
   "execution_count": null,
   "metadata": {},
   "outputs": [],
   "source": []
  },
  {
   "cell_type": "code",
   "execution_count": null,
   "metadata": {},
   "outputs": [],
   "source": []
  },
  {
   "cell_type": "code",
   "execution_count": null,
   "metadata": {},
   "outputs": [],
   "source": []
  },
  {
   "cell_type": "code",
   "execution_count": null,
   "metadata": {},
   "outputs": [],
   "source": []
  },
  {
   "cell_type": "code",
   "execution_count": 3,
   "metadata": {},
   "outputs": [
    {
     "name": "stdout",
     "output_type": "stream",
     "text": [
      "Retarder...\n",
      "Analyzer...\n",
      "Retarder...\n",
      "Analyzer...\n"
     ]
    }
   ],
   "source": [
    "def csv2stokes(csv_file, stokes_file, rays):\n",
    "    Mdata = np.loadtxt(f\"{csv_file}\", skiprows=2)\n",
    "    file = open(f\"{stokes_file}\", 'w')\n",
    "    for row in Mdata:\n",
    "        file.write(f\"{row[1]}\\t{row[26]/rays:5.3f}\\t{row[31]:6.3f}\\t{row[32]:6.3f}\\t{row[33]:6.3f}\\n\")\n",
    "    file.close()\n",
    "\n",
    "if 1==1:\n",
    "    print(\"Retarder...\")\n",
    "    csv2stokes(\"retarder.csv\",  \"retarder_stokes.dat\",  500000)\n",
    "    print(\"Analyzer...\")\n",
    "    csv2stokes(\"analyzer.csv\",  \"analyzer_stokes.dat\",  500000)\n",
    "\n",
    "def stokes2optical(stokes_file, optical_file):\n",
    "    Mdata = np.loadtxt(f\"{stokes_file}\")\n",
    "    file = open(f\"{optical_file}\", 'w')\n",
    "    for row in Mdata:\n",
    "        S = np.array([1, row[2], row[3], row[4]]) * row[1]\n",
    "        rs, rp, delta = mys.opticalFromStokes(S, shup = True)\n",
    "        file.write(f\"{row[0]}\\t{rs:5.3f}\\t{rp:5.3f}\\t{-delta:6.1f}\\n\")\n",
    "    file.close()\n",
    "\n",
    "if 1==1:\n",
    "    print(\"Retarder...\")\n",
    "    stokes2optical(\"retarder_stokes.dat\",  \"retarder_optical.dat\")\n",
    "    print(\"Analyzer...\")\n",
    "    stokes2optical(\"analyzer_stokes.dat\",  \"analyzer_optical.dat\")"
   ]
  },
  {
   "attachments": {},
   "cell_type": "markdown",
   "metadata": {},
   "source": [
    "The outputs are:\n",
    "\n",
    "retarder_stokes.dat, energy, efficiency, S1, S2, S3\n",
    "\n",
    "analyzer_stokes.dat, energy, efficiency, S1, S2, S3\n",
    "\n",
    "and\n",
    "\n",
    "retarder_optical.dat, rs, rp, delta\n",
    "\n",
    "analyzer_optical.dat, rs, rp, delta\n"
   ]
  },
  {
   "attachments": {},
   "cell_type": "markdown",
   "metadata": {},
   "source": [
    "## Data from Ray\n",
    "\n",
    "The output from running circular polarized light through each of the mirrors.\n",
    "\n",
    "Files:\n",
    "\n",
    "M1.csv with 2e5 rays, inc 15\n",
    "\n",
    "M2.csv with 2e5 rays, inc 30\n",
    "\n",
    "M4.csv with 2e5 rays, inc 45"
   ]
  },
  {
   "cell_type": "code",
   "execution_count": 4,
   "metadata": {},
   "outputs": [
    {
     "name": "stdout",
     "output_type": "stream",
     "text": [
      "M1...\n",
      "M2...\n",
      "M4...\n"
     ]
    }
   ],
   "source": [
    "if 1==1:\n",
    "    print(\"M1...\")\n",
    "    csv2stokes(\"M1.csv\",  \"M1_stokes.dat\",  200000)\n",
    "    stokes2optical(\"M1_stokes.dat\",  \"M1_optical.dat\")\n",
    "    print(\"M2...\")\n",
    "    csv2stokes(\"M2.csv\",  \"M2_stokes.dat\",  200000)\n",
    "    stokes2optical(\"M2_stokes.dat\",  \"M2_optical.dat\")\n",
    "    print(\"M4...\")\n",
    "    csv2stokes(\"M4.csv\",  \"M4_stokes.dat\",  200000)\n",
    "    stokes2optical(\"M4_stokes.dat\",  \"M4_optical.dat\")"
   ]
  },
  {
   "attachments": {},
   "cell_type": "markdown",
   "metadata": {},
   "source": [
    "The outputs are:\n",
    "\n",
    "M1_stokes.dat, energy, efficiency, S1, S2, S3\n",
    "\n",
    "M2_stokes.dat, energy, efficiency, S1, S2, S3\n",
    "\n",
    "M4_stokes.dat, energy, efficiency, S1, S2, S3\n",
    "\n",
    "and\n",
    "\n",
    "M1_optical.dat, rs, rp, delta\n",
    "\n",
    "M2_optical.dat, rs, rp, delta\n",
    "\n",
    "M4_optical.dat, rs, rp, delta"
   ]
  },
  {
   "cell_type": "markdown",
   "metadata": {},
   "source": [
    "<hr>"
   ]
  },
  {
   "cell_type": "code",
   "execution_count": 6,
   "metadata": {},
   "outputs": [
    {
     "name": "stderr",
     "output_type": "stream",
     "text": [
      "[NbConvertApp] Converting notebook optical_parameters.ipynb to html\n",
      "[NbConvertApp] Writing 580050 bytes to optical_parameters.html\n"
     ]
    }
   ],
   "source": [
    "jup.html(\"optical_parameters.ipynb\")"
   ]
  }
 ],
 "metadata": {
  "kernelspec": {
   "display_name": "base",
   "language": "python",
   "name": "python3"
  },
  "language_info": {
   "codemirror_mode": {
    "name": "ipython",
    "version": 3
   },
   "file_extension": ".py",
   "mimetype": "text/x-python",
   "name": "python",
   "nbconvert_exporter": "python",
   "pygments_lexer": "ipython3",
   "version": "3.9.13"
  },
  "orig_nbformat": 4
 },
 "nbformat": 4,
 "nbformat_minor": 2
}
